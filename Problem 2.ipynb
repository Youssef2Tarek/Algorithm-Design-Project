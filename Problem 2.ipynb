{
 "cells": [
  {
   "cell_type": "code",
   "execution_count": 86,
   "id": "12c70da7",
   "metadata": {},
   "outputs": [],
   "source": [
    "jobs = [[1, 6, 6], [2, 5, 5], [5, 7, 5], [6, 8, 3]]"
   ]
  },
  {
   "cell_type": "code",
   "execution_count": 87,
   "id": "afb85443",
   "metadata": {},
   "outputs": [
    {
     "name": "stdout",
     "output_type": "stream",
     "text": [
      "10\n"
     ]
    }
   ],
   "source": [
    "summ = []\n",
    "for i in jobs:\n",
    "    start = i[0]\n",
    "    end = i[1]\n",
    "    profit = i[2]\n",
    "    c = 0\n",
    "    for j in jobs:\n",
    "        if j == i:\n",
    "            c += 1\n",
    "        if end <= j[0] and c != 1:\n",
    "            start = j[0]\n",
    "            end = j[1]\n",
    "            profit += j[2]\n",
    "        c += 1\n",
    "    summ.append(profit)\n",
    "print(max(summ))"
   ]
  },
  {
   "cell_type": "code",
   "execution_count": null,
   "id": "1c443a4e",
   "metadata": {},
   "outputs": [],
   "source": []
  }
 ],
 "metadata": {
  "kernelspec": {
   "display_name": "Python 3 (ipykernel)",
   "language": "python",
   "name": "python3"
  },
  "language_info": {
   "codemirror_mode": {
    "name": "ipython",
    "version": 3
   },
   "file_extension": ".py",
   "mimetype": "text/x-python",
   "name": "python",
   "nbconvert_exporter": "python",
   "pygments_lexer": "ipython3",
   "version": "3.9.13"
  }
 },
 "nbformat": 4,
 "nbformat_minor": 5
}
